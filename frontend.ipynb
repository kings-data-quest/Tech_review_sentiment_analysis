{
 "cells": [
  {
   "cell_type": "code",
   "execution_count": 2,
   "id": "89b28467-aed1-40cf-9384-6e1abcabd6fb",
   "metadata": {},
   "outputs": [
    {
     "ename": "ModuleNotFoundError",
     "evalue": "No module named 'data'",
     "output_type": "error",
     "traceback": [
      "\u001b[1;31m---------------------------------------------------------------------------\u001b[0m",
      "\u001b[1;31mModuleNotFoundError\u001b[0m                       Traceback (most recent call last)",
      "Cell \u001b[1;32mIn[2], line 6\u001b[0m\n\u001b[0;32m      3\u001b[0m \u001b[38;5;28;01mimport\u001b[39;00m \u001b[38;5;21;01mmatplotlib\u001b[39;00m\u001b[38;5;21;01m.\u001b[39;00m\u001b[38;5;21;01mpyplot\u001b[39;00m \u001b[38;5;28;01mas\u001b[39;00m \u001b[38;5;21;01mplt\u001b[39;00m\n\u001b[0;32m      4\u001b[0m \u001b[38;5;28;01mimport\u001b[39;00m \u001b[38;5;21;01mseaborn\u001b[39;00m \u001b[38;5;28;01mas\u001b[39;00m \u001b[38;5;21;01msns\u001b[39;00m\n\u001b[1;32m----> 6\u001b[0m \u001b[38;5;28;01mfrom\u001b[39;00m \u001b[38;5;21;01mdata\u001b[39;00m\u001b[38;5;21;01m.\u001b[39;00m\u001b[38;5;21;01mipynb\u001b[39;00m \u001b[38;5;28;01mimport\u001b[39;00m search, getComments, clean_text, plot_sentiment\n",
      "\u001b[1;31mModuleNotFoundError\u001b[0m: No module named 'data'"
     ]
    }
   ],
   "source": [
    "from flask import Flask, render_template, request, redirect, url_for\n",
    "import pandas as pd\n",
    "import matplotlib.pyplot as plt\n",
    "import seaborn as sns\n",
    "\n",
    "from data import search, getComments, clean_text, plot_sentiment"
   ]
  },
  {
   "cell_type": "code",
   "execution_count": null,
   "id": "a970e561-e877-4404-8620-344d9b5f373a",
   "metadata": {},
   "outputs": [],
   "source": [
    "app = Flask(__name__)\n",
    "\n",
    "@app.route('/')\n",
    "def home():\n",
    "    return render_template('index.html')\n",
    "\n",
    "@app.route('/result', methods=['POST'])\n",
    "def result():\n",
    "    # Get the device name from the form\n",
    "    device_name = request.form['device_name']\n",
    "\n",
    "    # Search for reviews on YouTube\n",
    "    urls = search(device_name)\n",
    "\n",
    "    # Extract comments from the top 15 videos\n",
    "    comments = []\n",
    "    for url in urls:\n",
    "        com = getComments(url)\n",
    "        comments.extend(com)\n",
    "\n",
    "    # Save comments to a CSV file\n",
    "    df = pd.DataFrame({'comments': comments})\n",
    "    df.to_csv(f'{device_name}_comments.csv', index=False)\n",
    "\n",
    "    # Clean the comments\n",
    "    df['cleaned_comments'] = df['comments'].apply(clean_text, device_name=device_name)\n",
    "\n",
    "    # Generate sentiment analysis graphs\n",
    "    plot_sentiment(df['cleaned_comments'], device_name)\n",
    "\n",
    "    # Redirect to the result page\n",
    "    return redirect(url_for('show_graphs', device_name=device_name))\n",
    "\n",
    "@app.route('/result/<device_name>')\n",
    "def show_graphs(device_name):\n",
    "    # Display the sentiment analysis graphs\n",
    "    fig, ax = plt.subplots(2, figsize=(10, 8))\n",
    "    fig.suptitle(f'Sentiment Analysis for {device_name}', fontsize=16)\n",
    "    sns.histplot(df['polarity'], ax=ax[0])\n",
    "    ax[0].set_title('Polarity Distribution')\n",
    "    sns.histplot(df['subjectivity'], ax=ax[1])\n",
    "    ax[1].set_title('Subjectivity Distribution')\n",
    "    plt.tight_layout()\n",
    "    return fig"
   ]
  },
  {
   "cell_type": "code",
   "execution_count": null,
   "id": "137b8a2c-67c8-458f-a588-3cbd07a5d2ec",
   "metadata": {},
   "outputs": [],
   "source": [
    "if __name__ == '__main__':\n",
    "    app.run(debug=True)"
   ]
  },
  {
   "cell_type": "code",
   "execution_count": null,
   "id": "6b074239-c962-4c4e-94ee-b0892d1e9dc3",
   "metadata": {},
   "outputs": [],
   "source": []
  }
 ],
 "metadata": {
  "kernelspec": {
   "display_name": "Python 3 (ipykernel)",
   "language": "python",
   "name": "python3"
  },
  "language_info": {
   "codemirror_mode": {
    "name": "ipython",
    "version": 3
   },
   "file_extension": ".py",
   "mimetype": "text/x-python",
   "name": "python",
   "nbconvert_exporter": "python",
   "pygments_lexer": "ipython3",
   "version": "3.9.13"
  }
 },
 "nbformat": 4,
 "nbformat_minor": 5
}
