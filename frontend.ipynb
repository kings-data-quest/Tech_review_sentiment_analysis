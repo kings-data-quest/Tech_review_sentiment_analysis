{
 "cells": [
  {
   "cell_type": "code",
   "execution_count": 1,
   "id": "54028ea9",
   "metadata": {},
   "outputs": [],
   "source": [
    "import pandas "
   ]
  },
  {
   "cell_type": "code",
   "execution_count": 3,
   "id": "1cc9b534",
   "metadata": {},
   "outputs": [
    {
     "ename": "ModuleNotFoundError",
     "evalue": "No module named 'wordcloud'",
     "output_type": "error",
     "traceback": [
      "\u001b[1;31m---------------------------------------------------------------------------\u001b[0m",
      "\u001b[1;31mModuleNotFoundError\u001b[0m                       Traceback (most recent call last)",
      "Cell \u001b[1;32mIn[3], line 1\u001b[0m\n\u001b[1;32m----> 1\u001b[0m \u001b[39mimport\u001b[39;00m \u001b[39mwordcloud\u001b[39;00m\n",
      "\u001b[1;31mModuleNotFoundError\u001b[0m: No module named 'wordcloud'"
     ]
    }
   ],
   "source": [
    "import wordcloud"
   ]
  },
  {
   "cell_type": "code",
   "execution_count": 2,
   "id": "788aff4f-6b59-491e-8387-613b198cc33c",
   "metadata": {},
   "outputs": [
    {
     "ename": "ModuleNotFoundError",
     "evalue": "No module named 'nbimporter'",
     "output_type": "error",
     "traceback": [
      "\u001b[1;31m---------------------------------------------------------------------------\u001b[0m",
      "\u001b[1;31mModuleNotFoundError\u001b[0m                       Traceback (most recent call last)",
      "Cell \u001b[1;32mIn[2], line 1\u001b[0m\n\u001b[1;32m----> 1\u001b[0m \u001b[39mimport\u001b[39;00m \u001b[39mnbimporter\u001b[39;00m\n\u001b[0;32m      2\u001b[0m \u001b[39mfrom\u001b[39;00m \u001b[39mdata\u001b[39;00m \u001b[39mimport\u001b[39;00m search, getComments\n",
      "\u001b[1;31mModuleNotFoundError\u001b[0m: No module named 'nbimporter'"
     ]
    }
   ],
   "source": [
    "import nbimporter\n",
    "from data import search, getCommenats\n",
    "\n"
   ]
  },
  {
   "cell_type": "code",
   "execution_count": null,
   "id": "15b46117",
   "metadata": {},
   "outputs": [],
   "source": []
  },
  {
   "cell_type": "code",
   "execution_count": null,
   "id": "89b28467-aed1-40cf-9384-6e1abcabd6fb",
   "metadata": {},
   "outputs": [],
   "source": [
    "from flask import Flask, render_template, request, redirect, url_for\n",
    "import pandas as pd\n",
    "import matplotlib.pyplot as plt\n",
    "import seaborn as sns\n",
    "\n",
    "from data import search, getComments, clean_text, plot_sentiment"
   ]
  },
  {
   "cell_type": "code",
   "execution_count": 4,
   "id": "5a875611-722f-4d98-a178-0b860a5751ff",
   "metadata": {},
   "outputs": [
    {
     "ename": "TypeError",
     "evalue": "nt.getcwd() takes no arguments (1 given)",
     "output_type": "error",
     "traceback": [
      "\u001b[1;31m---------------------------------------------------------------------------\u001b[0m",
      "\u001b[1;31mTypeError\u001b[0m                                 Traceback (most recent call last)",
      "Cell \u001b[1;32mIn[4], line 1\u001b[0m\n\u001b[1;32m----> 1\u001b[0m data \u001b[38;5;241m=\u001b[39m \u001b[43mos\u001b[49m\u001b[38;5;241;43m.\u001b[39;49m\u001b[43mgetcwd\u001b[49m\u001b[43m(\u001b[49m\u001b[38;5;124;43m'\u001b[39;49m\u001b[38;5;124;43mGoogle Drive/PROJECTS PERSONAL/Data Science projects/Sentiment_analyis/Tech_review_sentiment/data.ipynb\u001b[39;49m\u001b[38;5;124;43m'\u001b[39;49m\u001b[43m)\u001b[49m\n",
      "\u001b[1;31mTypeError\u001b[0m: nt.getcwd() takes no arguments (1 given)"
     ]
    }
   ],
   "source": [
    "data = os.getcwd('Google Drive/PROJECTS PERSONAL/Data Science projects/Sentiment_analyis/Tech_review_sentiment/data.ipynb')"
   ]
  },
  {
   "cell_type": "code",
   "execution_count": 2,
   "id": "05f1db69-f1ce-4403-b22f-c941e55572cf",
   "metadata": {},
   "outputs": [
    {
     "name": "stdout",
     "output_type": "stream",
     "text": [
      "C:\\Users\\USER\\Google Drive\\PROJECTS PERSONAL\\Data Science projects\\Sentiment_analyis\\Tech_review_sentiment\n"
     ]
    }
   ],
   "source": [
    "import os; print(os.getcwd())"
   ]
  },
  {
   "cell_type": "code",
   "execution_count": 5,
   "id": "6b27444f-13ea-4e0c-bb75-993afbe7bdd3",
   "metadata": {},
   "outputs": [],
   "source": [
    "import sys\n",
    "sys.path.append('Google Drive/PROJECTS PERSONAL/Data Science projects/Sentiment_analyis/Tech_review_sentiment/data.ipynb')\n"
   ]
  },
  {
   "cell_type": "code",
   "execution_count": null,
   "id": "a970e561-e877-4404-8620-344d9b5f373a",
   "metadata": {},
   "outputs": [],
   "source": [
    "app = Flask(__name__)\n",
    "\n",
    "@app.route('/')\n",
    "def home():\n",
    "    return render_template('index.html')\n",
    "\n",
    "@app.route('/result', methods=['POST'])\n",
    "def result():\n",
    "    # Get the device name from the form\n",
    "    device_name = request.form['device_name']\n",
    "\n",
    "    # Search for reviews on YouTube\n",
    "    urls = search(device_name)\n",
    "\n",
    "    # Extract comments from the top 15 videos\n",
    "    comments = []\n",
    "    for url in urls:\n",
    "        com = getComments(url)\n",
    "        comments.extend(com)\n",
    "\n",
    "    # Save comments to a CSV file\n",
    "    df = pd.DataFrame({'comments': comments})\n",
    "    df.to_csv(f'{device_name}_comments.csv', index=False)\n",
    "\n",
    "    # Clean the comments\n",
    "    df['cleaned_comments'] = df['comments'].apply(clean_text, device_name=device_name)\n",
    "\n",
    "    # Generate sentiment analysis graphs\n",
    "    plot_sentiment(df['cleaned_comments'], device_name)\n",
    "\n",
    "    # Redirect to the result page\n",
    "    return redirect(url_for('show_graphs', device_name=device_name))\n",
    "\n",
    "@app.route('/result/<device_name>')\n",
    "def show_graphs(device_name):\n",
    "    # Display the sentiment analysis graphs\n",
    "    fig, ax = plt.subplots(2, figsize=(10, 8))\n",
    "    fig.suptitle(f'Sentiment Analysis for {device_name}', fontsize=16)\n",
    "    sns.histplot(df['polarity'], ax=ax[0])\n",
    "    ax[0].set_title('Polarity Distribution')\n",
    "    sns.histplot(df['subjectivity'], ax=ax[1])\n",
    "    ax[1].set_title('Subjectivity Distribution')\n",
    "    plt.tight_layout()\n",
    "    return fig"
   ]
  },
  {
   "cell_type": "code",
   "execution_count": null,
   "id": "137b8a2c-67c8-458f-a588-3cbd07a5d2ec",
   "metadata": {},
   "outputs": [],
   "source": [
    "if __name__ == '__main__':\n",
    "    app.run(debug=True)"
   ]
  },
  {
   "cell_type": "code",
   "execution_count": null,
   "id": "6b074239-c962-4c4e-94ee-b0892d1e9dc3",
   "metadata": {},
   "outputs": [],
   "source": []
  }
 ],
 "metadata": {
  "kernelspec": {
   "display_name": "Python 3 (ipykernel)",
   "language": "python",
   "name": "python3"
  },
  "language_info": {
   "codemirror_mode": {
    "name": "ipython",
    "version": 3
   },
   "file_extension": ".py",
   "mimetype": "text/x-python",
   "name": "python",
   "nbconvert_exporter": "python",
   "pygments_lexer": "ipython3",
   "version": "3.9.16"
  }
 },
 "nbformat": 4,
 "nbformat_minor": 5
}
